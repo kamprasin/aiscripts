{
 "cells": [
  {
   "cell_type": "code",
   "execution_count": 1,
   "metadata": {},
   "outputs": [
    {
     "name": "stdout",
     "output_type": "stream",
     "text": [
      "Similarity Percentage: 89.17%\n",
      "HTML differences saved to differences.html\n"
     ]
    }
   ],
   "source": [
    "#matching percentage, difference and diffhtml\n",
    "import requests\n",
    "from bs4 import BeautifulSoup\n",
    "from docx import Document\n",
    "import difflib\n",
    "import html\n",
    "\n",
    "def compare_texts(text1, text2):\n",
    "    # Preprocess the text (remove spaces and special characters)\n",
    "    def preprocess_text(text):\n",
    "        return ''.join(c for c in text if c.isalnum())\n",
    "\n",
    "    text1_clean = preprocess_text(text1)\n",
    "    text2_clean = preprocess_text(text2)\n",
    "\n",
    "    # Calculate similarity percentage\n",
    "    seq = difflib.SequenceMatcher(None, text1_clean, text2_clean)\n",
    "    similarity_percentage = seq.ratio() * 100\n",
    "\n",
    "    # Get the differences\n",
    "    diff = difflib.unified_diff(text1.splitlines(), text2.splitlines(), lineterm='')\n",
    "\n",
    "    # Create a pretty HTML representation of the differences\n",
    "    html_diff = difflib.HtmlDiff()\n",
    "    html_diff_output = html_diff.make_file(text1.splitlines(), text2.splitlines())\n",
    "\n",
    "    return similarity_percentage, diff, html_diff_output\n",
    "\n",
    "def fetch_webpage_content(url):\n",
    "    response = requests.get(url)\n",
    "    soup = BeautifulSoup(response.content, 'html.parser')\n",
    "    # soup = BeautifulSoup(response.content, 'html.parser')\n",
    "    main_section = soup.find('div', class_='mainSection')\n",
    "    return main_section.get_text() if main_section else ''\n",
    "    return soup.get_text()\n",
    "\n",
    "def read_docx_content(docx_path):\n",
    "    doc = Document(docx_path)\n",
    "    full_text = []\n",
    "    for para in doc.paragraphs:\n",
    "        full_text.append(para.text)\n",
    "    return '\\n'.join(full_text)\n",
    "\n",
    "\n",
    "# webpage URL and doc path in local system\n",
    "webpage_url = 'https://www.airindia.com/en/book-flights/delhi-to-aurangabad-flights'\n",
    "docx_path = r'C:\\Users\\KamlendraSingh\\Downloads\\DELHI TO AURANGABAD FLIGHTS.docx'\n",
    "\n",
    "text2 = fetch_webpage_content(webpage_url)\n",
    "text1 = read_docx_content(docx_path)\n",
    "\n",
    "similarity, differences, html_differences = compare_texts(text1, text2)\n",
    "\n",
    "print(f\"Similarity Percentage: {similarity:.2f}%\")\n",
    "# print(\"\\nDifferences:\")\n",
    "# print('\\n'.join(differences))\n",
    "\n",
    "# Save the HTML differences to a file\n",
    "with open(\"differences.html\", \"w\", encoding=\"utf-8\") as html_file:\n",
    "    html_file.write(html_differences)\n",
    "\n",
    "print(\"HTML differences saved to differences.html\")\n"
   ]
  }
 ],
 "metadata": {
  "kernelspec": {
   "display_name": "base",
   "language": "python",
   "name": "python3"
  },
  "language_info": {
   "codemirror_mode": {
    "name": "ipython",
    "version": 3
   },
   "file_extension": ".py",
   "mimetype": "text/x-python",
   "name": "python",
   "nbconvert_exporter": "python",
   "pygments_lexer": "ipython3",
   "version": "3.11.7"
  }
 },
 "nbformat": 4,
 "nbformat_minor": 2
}
